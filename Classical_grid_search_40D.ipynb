{
 "cells": [
  {
   "cell_type": "code",
   "execution_count": 5,
   "metadata": {},
   "outputs": [],
   "source": [
    "import pandas as pd\n",
    "import numpy as np\n",
    "from sklearn.model_selection import GridSearchCV, StratifiedKFold\n",
    "from sklearn.svm import SVC\n",
    "from sklearn.metrics import f1_score,precision_score,recall_score,roc_auc_score\n",
    "from sklearn.preprocessing import StandardScaler\n",
    "from imblearn.under_sampling import RandomUnderSampler\n"
   ]
  },
  {
   "cell_type": "code",
   "execution_count": 6,
   "metadata": {},
   "outputs": [],
   "source": [
    "# function to load and label datasets\n",
    "def load_data(file_num):\n",
    "    # File paths\n",
    "    train_neg_path = f'./data/Hemo40D/data{file_num}/train/neg.fa_encod.csv'\n",
    "    train_pos_path = f'./data/Hemo40D/data{file_num}/train/pos.fa_encod.csv'\n",
    "    test_neg_path = f'./data/Hemo40D/data{file_num}/test/neg.fa_encod.csv'\n",
    "    test_pos_path = f'./data/Hemo40D/data{file_num}/test/pos.fa_encod.csv'\n",
    "    \n",
    "    # Load the CSV files\n",
    "    train_neg = pd.read_csv(train_neg_path)\n",
    "    train_pos = pd.read_csv(train_pos_path)\n",
    "    test_neg = pd.read_csv(test_neg_path)\n",
    "    test_pos = pd.read_csv(test_pos_path)\n",
    "    \n",
    "    # Insert labels (0 for negative, 1 for positive)\n",
    "    train_neg.insert(0, 'Label', 0)\n",
    "    train_pos.insert(0, 'Label', 1)\n",
    "    test_neg.insert(0, 'Label', 0)\n",
    "    test_pos.insert(0, 'Label', 1)\n",
    "\n",
    "    frames_trian = [train_neg,train_pos]\n",
    "    frames_test  = [test_neg,test_pos]\n",
    "    train_df     = pd.concat(frames_trian)\n",
    "    test_df      = pd.concat(frames_test)\n",
    "\n",
    "    return train_df, test_df\n",
    "\n",
    "def pre_process(file_num):\n",
    "    train_df, test_df = load_data(file_num)\n",
    "    column_names = train_df.columns[3:].tolist()\n",
    "\n",
    "    scaler        = StandardScaler()  # mean 0 and std 1\n",
    "    undersampleer = RandomUnderSampler(random_state=42)\n",
    "\n",
    "    train_df[column_names] = scaler.fit_transform(train_df[column_names])\n",
    "    test_df[column_names]  = scaler.transform(test_df[column_names])\n",
    "    \n",
    "    x      = train_df[column_names].to_numpy()\n",
    "    y      = train_df['Label'].to_numpy()\n",
    "    x_test = test_df[column_names].to_numpy()\n",
    "    y_test = test_df['Label'].to_numpy()\n",
    "\n",
    "    X,y = undersampleer.fit_resample(x, y)\n",
    "    return X,y,x_test,y_test\n"
   ]
  },
  {
   "cell_type": "code",
   "execution_count": 14,
   "metadata": {},
   "outputs": [],
   "source": [
    "# Grid search function, note it output the prarmeters that give the\n",
    "# highest validation accuracy and tend to overfit.\n",
    "def grid_serach_cv(param_grid,kernel,file_num):\n",
    "    X,y,_,_ = pre_process(file_num)\n",
    "    skfold = StratifiedKFold(n_splits=5, random_state=42, shuffle= True)\n",
    "    model = SVC(kernel=kernel)\n",
    "    grid_search = GridSearchCV(model, param_grid, cv=skfold, n_jobs=-1, return_train_score=True,error_score='raise')\n",
    "    grid_search.fit(X, y)\n",
    "\n",
    "    best_index     = grid_search.best_index_\n",
    "    best_train_acc = grid_search.cv_results_['mean_train_score'][best_index]\n",
    "    best_val_acc   = grid_search.cv_results_['mean_test_score'][best_index]\n",
    "\n",
    "    print(grid_search.best_params_)\n",
    "    print(f\"Training accuracy: {best_train_acc:.5f}\")\n",
    "    print(f\"Validation accuracy: {best_val_acc:.5f}\")\n",
    "\n",
    "    return grid_search.cv_results_\n",
    "\n",
    "# Function to manually search for parameters that give the best validation accuracy and do not overfit. \n",
    "# The function takes the grid search results and the maximum and minimum range of accuracy\n",
    "def manual_search(grid_result,max=0.9,min=0.7):\n",
    "\n",
    "    val_array = grid_result['mean_test_score'] > min  \n",
    "    train_array = grid_result['mean_train_score'] < max\n",
    "    true_list = train_array & val_array\n",
    "    true_indices = np.where(true_list)[0]\n",
    "\n",
    "    for i in true_indices:\n",
    "        train_acc = grid_result['mean_train_score'][i]\n",
    "        val_acc   = grid_result['mean_test_score'][i]\n",
    "        params    = grid_result['params'][i] \n",
    "        print('Index: {} ,Train Acc: {:3f} , Val Acc: {:3f}, diff: {:3f},params {}'.format(i,train_acc,val_acc, (train_acc-val_acc)*100,params))\n",
    "\n",
    "\n",
    "# Function to test the model on the test set\n",
    "def test_metric(param,file_num):\n",
    "    X,y,x_test,y_test = pre_process(file_num)\n",
    "    model = SVC(**param)\n",
    "    model.fit(X,y)\n",
    "    y_pred         = model.predict(x_test)\n",
    "    y_pred_prob    = model.decision_function(x_test)\n",
    "    test_score     = model.score(x_test,y_test)\n",
    "\n",
    "    print(f\"Testing accuracy: {test_score:.5f}\")\n",
    "    print(f\"Precision: {precision_score(y_test, y_pred, pos_label=1):.5f}\")\n",
    "    print(f\"Recall: {recall_score(y_test, y_pred, pos_label=1):.5f}\")\n",
    "    print(f\"F1: {f1_score(y_test, y_pred, pos_label=1):.5f}\")\n",
    "    print(f\"ROC AUC: {roc_auc_score(y_test, y_pred_prob):.5f}\")\n",
    "\n",
    "# Grid search parameters\n",
    "param_grid_linear = {'C': [0.0001,0.001,0.1, 1, 10, 100,1000]}\n",
    "param_grid_rbf    = {'C': [0.0001,0.001,0.1, 1, 10, 100,1000],  \n",
    "                    'gamma': [1, 0.1, 0.01, 0.001, 0.0001]}\n",
    "param_grid_poly   = {'C': [0.0001,0.001,0.1, 1, 10, 100,1000],\n",
    "                    'degree': [2,3,4]}"
   ]
  },
  {
   "cell_type": "markdown",
   "metadata": {},
   "source": [
    "## Hemo1"
   ]
  },
  {
   "cell_type": "code",
   "execution_count": 18,
   "metadata": {},
   "outputs": [
    {
     "name": "stdout",
     "output_type": "stream",
     "text": [
      "{'C': 10}\n",
      "Training accuracy: 0.96691\n",
      "Validation accuracy: 0.94794\n"
     ]
    }
   ],
   "source": [
    "hemo1_linear = grid_serach_cv(param_grid_linear,'linear',1)"
   ]
  },
  {
   "cell_type": "code",
   "execution_count": 21,
   "metadata": {},
   "outputs": [
    {
     "name": "stdout",
     "output_type": "stream",
     "text": [
      "Testing accuracy: 0.94545\n",
      "Precision: 0.96226\n",
      "Recall: 0.92727\n",
      "F1: 0.94444\n",
      "ROC AUC: 0.98603\n"
     ]
    }
   ],
   "source": [
    "test_metric({'C': 10,'kernel':'linear'},1)"
   ]
  },
  {
   "cell_type": "code",
   "execution_count": 25,
   "metadata": {},
   "outputs": [
    {
     "name": "stdout",
     "output_type": "stream",
     "text": [
      "{'C': 1000, 'gamma': 0.001}\n",
      "Training accuracy: 0.98982\n",
      "Validation accuracy: 0.96152\n"
     ]
    }
   ],
   "source": [
    "hemo1_rbf = grid_serach_cv(param_grid_rbf,'rbf',1)"
   ]
  },
  {
   "cell_type": "code",
   "execution_count": 27,
   "metadata": {},
   "outputs": [
    {
     "name": "stdout",
     "output_type": "stream",
     "text": [
      "Testing accuracy: 0.96364\n",
      "Precision: 0.98113\n",
      "Recall: 0.94545\n",
      "F1: 0.96296\n",
      "ROC AUC: 0.99364\n"
     ]
    }
   ],
   "source": [
    "test_metric({'C': 1000, 'gamma': 0.001, 'kernel': 'rbf'},1)"
   ]
  },
  {
   "cell_type": "code",
   "execution_count": 28,
   "metadata": {},
   "outputs": [
    {
     "name": "stdout",
     "output_type": "stream",
     "text": [
      "{'C': 10, 'degree': 3}\n",
      "Training accuracy: 0.99038\n",
      "Validation accuracy: 0.94681\n"
     ]
    }
   ],
   "source": [
    "hemo1_poly = grid_serach_cv(param_grid_poly,'poly',1)"
   ]
  },
  {
   "cell_type": "code",
   "execution_count": 29,
   "metadata": {},
   "outputs": [
    {
     "name": "stdout",
     "output_type": "stream",
     "text": [
      "Testing accuracy: 0.95000\n",
      "Precision: 0.96262\n",
      "Recall: 0.93636\n",
      "F1: 0.94931\n",
      "ROC AUC: 0.97314\n"
     ]
    }
   ],
   "source": [
    "test_metric({'C': 10,'degree':3,'kernel':'poly'},1)"
   ]
  },
  {
   "cell_type": "markdown",
   "metadata": {},
   "source": [
    "## Hemo2\n",
    " To reduce overfitting in grid search, we set a constraint where the difference \n",
    " between training and validation accuracy must be less than 5%. As shown by calling 'manual_search' function.\n"
   ]
  },
  {
   "cell_type": "code",
   "execution_count": 30,
   "metadata": {},
   "outputs": [
    {
     "name": "stdout",
     "output_type": "stream",
     "text": [
      "{'C': 1000}\n",
      "Training accuracy: 0.73204\n",
      "Validation accuracy: 0.71410\n"
     ]
    }
   ],
   "source": [
    "hemo2_linear = grid_serach_cv(param_grid_linear,'linear',2)"
   ]
  },
  {
   "cell_type": "code",
   "execution_count": 32,
   "metadata": {},
   "outputs": [
    {
     "name": "stdout",
     "output_type": "stream",
     "text": [
      "Testing accuracy: 0.72277\n",
      "Precision: 0.73684\n",
      "Recall: 0.76364\n",
      "F1: 0.75000\n",
      "ROC AUC: 0.78063\n"
     ]
    }
   ],
   "source": [
    "test_metric({'C': 1000, 'kernel': 'linear'},2)"
   ]
  },
  {
   "cell_type": "code",
   "execution_count": 33,
   "metadata": {},
   "outputs": [
    {
     "name": "stdout",
     "output_type": "stream",
     "text": [
      "{'C': 100, 'gamma': 0.01}\n",
      "Training accuracy: 0.93835\n",
      "Validation accuracy: 0.76017\n"
     ]
    }
   ],
   "source": [
    "hemo2_rbf = grid_serach_cv(param_grid_rbf,'rbf',2)"
   ]
  },
  {
   "cell_type": "code",
   "execution_count": 34,
   "metadata": {},
   "outputs": [
    {
     "name": "stdout",
     "output_type": "stream",
     "text": [
      "Index: 1 ,Train Acc: 0.672881 , Val Acc: 0.612153, diff: 6.072781,params {'C': 0.0001, 'gamma': 0.1}\n",
      "Index: 6 ,Train Acc: 0.672881 , Val Acc: 0.612153, diff: 6.072781,params {'C': 0.001, 'gamma': 0.1}\n",
      "Index: 11 ,Train Acc: 0.742932 , Val Acc: 0.654330, diff: 8.860170,params {'C': 0.1, 'gamma': 0.1}\n",
      "Index: 12 ,Train Acc: 0.669708 , Val Acc: 0.636891, diff: 3.281736,params {'C': 0.1, 'gamma': 0.01}\n",
      "Index: 13 ,Train Acc: 0.611452 , Val Acc: 0.615177, diff: -0.372542,params {'C': 0.1, 'gamma': 0.001}\n",
      "Index: 17 ,Train Acc: 0.749653 , Val Acc: 0.709983, diff: 3.966982,params {'C': 1, 'gamma': 0.01}\n",
      "Index: 18 ,Train Acc: 0.668020 , Val Acc: 0.638233, diff: 2.978660,params {'C': 1, 'gamma': 0.001}\n",
      "Index: 19 ,Train Acc: 0.612807 , Val Acc: 0.611114, diff: 0.169319,params {'C': 1, 'gamma': 0.0001}\n",
      "Index: 23 ,Train Acc: 0.731712 , Val Acc: 0.708669, diff: 2.304354,params {'C': 10, 'gamma': 0.001}\n",
      "Index: 24 ,Train Acc: 0.669036 , Val Acc: 0.640954, diff: 2.808131,params {'C': 10, 'gamma': 0.0001}\n",
      "Index: 28 ,Train Acc: 0.774386 , Val Acc: 0.728948, diff: 4.543751,params {'C': 100, 'gamma': 0.001}\n",
      "Index: 29 ,Train Acc: 0.720530 , Val Acc: 0.696470, diff: 2.406004,params {'C': 100, 'gamma': 0.0001}\n",
      "Index: 34 ,Train Acc: 0.736450 , Val Acc: 0.714111, diff: 2.233852,params {'C': 1000, 'gamma': 0.0001}\n"
     ]
    }
   ],
   "source": [
    "manual_search(hemo2_rbf,0.8,0.6)"
   ]
  },
  {
   "cell_type": "code",
   "execution_count": 37,
   "metadata": {},
   "outputs": [
    {
     "name": "stdout",
     "output_type": "stream",
     "text": [
      "Testing accuracy: 0.72277\n",
      "Precision: 0.74107\n",
      "Recall: 0.75455\n",
      "F1: 0.74775\n",
      "ROC AUC: 0.78745\n"
     ]
    }
   ],
   "source": [
    "test_metric({'C': 1000, 'gamma': 0.0001,'kernel': 'rbf'},2) # index 34"
   ]
  },
  {
   "cell_type": "code",
   "execution_count": 38,
   "metadata": {},
   "outputs": [
    {
     "name": "stdout",
     "output_type": "stream",
     "text": [
      "{'C': 10, 'degree': 3}\n",
      "Training accuracy: 0.91056\n",
      "Validation accuracy: 0.75060\n"
     ]
    }
   ],
   "source": [
    "hemo2_poly = grid_serach_cv(param_grid_poly,'poly',2)"
   ]
  },
  {
   "cell_type": "code",
   "execution_count": 50,
   "metadata": {},
   "outputs": [
    {
     "name": "stdout",
     "output_type": "stream",
     "text": [
      "Index: 7 ,Train Acc: 0.729352 , Val Acc: 0.666538, diff: 6.281418,params {'C': 0.1, 'degree': 3}\n",
      "Index: 8 ,Train Acc: 0.682907 , Val Acc: 0.611160, diff: 7.174731,params {'C': 0.1, 'degree': 4}\n",
      "Index: 9 ,Train Acc: 0.749321 , Val Acc: 0.662594, diff: 8.672695,params {'C': 1, 'degree': 2}\n",
      "Index: 11 ,Train Acc: 0.788273 , Val Acc: 0.685678, diff: 10.259516,params {'C': 1, 'degree': 4}\n"
     ]
    }
   ],
   "source": [
    "manual_search(hemo2_poly,0.8,0.6)"
   ]
  },
  {
   "cell_type": "code",
   "execution_count": 40,
   "metadata": {},
   "outputs": [
    {
     "name": "stdout",
     "output_type": "stream",
     "text": [
      "Testing accuracy: 0.71782\n",
      "Precision: 0.74766\n",
      "Recall: 0.72727\n",
      "F1: 0.73733\n",
      "ROC AUC: 0.78498\n"
     ]
    }
   ],
   "source": [
    "test_metric({'C': 0.1, 'degree':3,'kernel': 'poly'},2) # index 7"
   ]
  },
  {
   "cell_type": "markdown",
   "metadata": {},
   "source": [
    "## Hemo3"
   ]
  },
  {
   "cell_type": "code",
   "execution_count": 41,
   "metadata": {},
   "outputs": [
    {
     "name": "stdout",
     "output_type": "stream",
     "text": [
      "{'C': 10}\n",
      "Training accuracy: 0.73578\n",
      "Validation accuracy: 0.71307\n"
     ]
    }
   ],
   "source": [
    "hemo3_linear = grid_serach_cv(param_grid_linear,'linear',3)"
   ]
  },
  {
   "cell_type": "code",
   "execution_count": 43,
   "metadata": {},
   "outputs": [
    {
     "name": "stdout",
     "output_type": "stream",
     "text": [
      "Testing accuracy: 0.75385\n",
      "Precision: 0.72986\n",
      "Recall: 0.87006\n",
      "F1: 0.79381\n",
      "ROC AUC: 0.78390\n"
     ]
    }
   ],
   "source": [
    "test_metric({'C': 1000, 'kernel': 'linear'},3)"
   ]
  },
  {
   "cell_type": "code",
   "execution_count": 44,
   "metadata": {},
   "outputs": [
    {
     "name": "stdout",
     "output_type": "stream",
     "text": [
      "{'C': 1, 'gamma': 0.1}\n",
      "Training accuracy: 0.92509\n",
      "Validation accuracy: 0.77590\n"
     ]
    }
   ],
   "source": [
    "hemo3_rbf = grid_serach_cv(param_grid_rbf,'rbf',3)"
   ]
  },
  {
   "cell_type": "code",
   "execution_count": 46,
   "metadata": {},
   "outputs": [
    {
     "name": "stdout",
     "output_type": "stream",
     "text": [
      "Index: 17 ,Train Acc: 0.758278 , Val Acc: 0.722441, diff: 3.583627,params {'C': 1, 'gamma': 0.01}\n",
      "Index: 22 ,Train Acc: 0.837862 , Val Acc: 0.754659, diff: 8.320296,params {'C': 10, 'gamma': 0.01}\n",
      "Index: 23 ,Train Acc: 0.732174 , Val Acc: 0.713924, diff: 1.825072,params {'C': 10, 'gamma': 0.001}\n",
      "Index: 28 ,Train Acc: 0.773134 , Val Acc: 0.730047, diff: 4.308693,params {'C': 100, 'gamma': 0.001}\n",
      "Index: 29 ,Train Acc: 0.723472 , Val Acc: 0.710519, diff: 1.295280,params {'C': 100, 'gamma': 0.0001}\n",
      "Index: 33 ,Train Acc: 0.821944 , Val Acc: 0.740220, diff: 8.172426,params {'C': 1000, 'gamma': 0.001}\n",
      "Index: 34 ,Train Acc: 0.736844 , Val Acc: 0.718168, diff: 1.867624,params {'C': 1000, 'gamma': 0.0001}\n"
     ]
    }
   ],
   "source": [
    "manual_search(hemo3_rbf,0.9,0.7)"
   ]
  },
  {
   "cell_type": "code",
   "execution_count": 48,
   "metadata": {},
   "outputs": [
    {
     "name": "stdout",
     "output_type": "stream",
     "text": [
      "Testing accuracy: 0.75077\n",
      "Precision: 0.72430\n",
      "Recall: 0.87571\n",
      "F1: 0.79284\n",
      "ROC AUC: 0.79485\n"
     ]
    }
   ],
   "source": [
    "test_metric({'C': 10, 'gamma': 0.001, 'kernel': 'rbf'},3)"
   ]
  },
  {
   "cell_type": "code",
   "execution_count": 45,
   "metadata": {},
   "outputs": [
    {
     "name": "stdout",
     "output_type": "stream",
     "text": [
      "{'C': 100, 'degree': 3}\n",
      "Training accuracy: 0.97008\n",
      "Validation accuracy: 0.74451\n"
     ]
    }
   ],
   "source": [
    "hemo3_poly = grid_serach_cv(param_grid_poly,'poly',3)"
   ]
  },
  {
   "cell_type": "code",
   "execution_count": 51,
   "metadata": {},
   "outputs": [
    {
     "name": "stdout",
     "output_type": "stream",
     "text": [
      "Index: 7 ,Train Acc: 0.646009 , Val Acc: 0.616336, diff: 2.967305,params {'C': 0.1, 'degree': 3}\n",
      "Index: 9 ,Train Acc: 0.716468 , Val Acc: 0.644345, diff: 7.212272,params {'C': 1, 'degree': 2}\n",
      "Index: 10 ,Train Acc: 0.803690 , Val Acc: 0.717342, diff: 8.634817,params {'C': 1, 'degree': 3}\n",
      "Index: 11 ,Train Acc: 0.764853 , Val Acc: 0.667241, diff: 9.761185,params {'C': 1, 'degree': 4}\n",
      "Index: 12 ,Train Acc: 0.805391 , Val Acc: 0.703758, diff: 10.163372,params {'C': 10, 'degree': 2}\n"
     ]
    }
   ],
   "source": [
    "manual_search(hemo3_poly,0.85,0.6)  "
   ]
  },
  {
   "cell_type": "code",
   "execution_count": 52,
   "metadata": {},
   "outputs": [
    {
     "name": "stdout",
     "output_type": "stream",
     "text": [
      "Testing accuracy: 0.75692\n",
      "Precision: 0.72897\n",
      "Recall: 0.88136\n",
      "F1: 0.79795\n",
      "ROC AUC: 0.80115\n"
     ]
    }
   ],
   "source": [
    "test_metric({'C': 1, 'degree': 3,  'kernel': 'poly'},3)"
   ]
  },
  {
   "cell_type": "code",
   "execution_count": null,
   "metadata": {},
   "outputs": [],
   "source": []
  }
 ],
 "metadata": {
  "kernelspec": {
   "display_name": "lightn",
   "language": "python",
   "name": "python3"
  },
  "language_info": {
   "codemirror_mode": {
    "name": "ipython",
    "version": 3
   },
   "file_extension": ".py",
   "mimetype": "text/x-python",
   "name": "python",
   "nbconvert_exporter": "python",
   "pygments_lexer": "ipython3",
   "version": "3.8.16"
  }
 },
 "nbformat": 4,
 "nbformat_minor": 2
}
