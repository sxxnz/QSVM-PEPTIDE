{
 "cells": [
  {
   "cell_type": "code",
   "execution_count": 62,
   "metadata": {},
   "outputs": [],
   "source": [
    "import pennylane as qml\n",
    "from pennylane import numpy as np\n",
    "from pennylane import ApproxTimeEvolution\n",
    "\n",
    "import pandas as pd\n",
    "import matplotlib.pyplot as plt\n",
    "\n",
    "from sklearn import model_selection\n",
    "from sklearn.svm import SVC\n",
    "from sklearn.metrics import accuracy_score,f1_score,precision_score,recall_score,roc_auc_score\n",
    "from sklearn.preprocessing import MinMaxScaler,StandardScaler\n",
    "from sklearn.model_selection import GridSearchCV, KFold,StratifiedKFold\n",
    "\n",
    "import random\n",
    "from ast import literal_eval\n",
    "from itertools import product\n",
    "from imblearn.under_sampling import RandomUnderSampler\n",
    "from typing import Dict, Any"
   ]
  },
  {
   "cell_type": "code",
   "execution_count": 122,
   "metadata": {},
   "outputs": [
    {
     "data": {
      "text/plain": [
       "(884, 220, 812, 202, 1298, 325)"
      ]
     },
     "execution_count": 122,
     "metadata": {},
     "output_type": "execute_result"
    }
   ],
   "source": [
    "train_file_1 = pd.read_csv('./data/Hemo56D/data1/HemoPI_train_model.csv')\n",
    "test_file_1  = pd.read_csv('./data/Hemo56D/data1/HemoPI_validation.csv')\n",
    "train_file_2 = pd.read_csv('./data/Hemo56D/data2/HemoPI_train_model.csv')\n",
    "test_file_2  = pd.read_csv('./data/Hemo56D/data2/HemoPI_validation.csv')\n",
    "train_file_3 = pd.read_csv('./data/Hemo56D/data3/HemoPI_train_model.csv')    \n",
    "test_file_3  = pd.read_csv('./data/Hemo56D/data3/HemoPI_validation.csv')\n",
    "\n",
    "len(train_file_1),len(test_file_1),len(train_file_2),len(test_file_2),len(train_file_3),len(test_file_3)"
   ]
  },
  {
   "cell_type": "code",
   "execution_count": 123,
   "metadata": {},
   "outputs": [],
   "source": [
    "def pre_process(train_file,test_file):\n",
    "    col_names = train_file_1.columns[2:-1].tolist()\n",
    "    col_names.pop(47)   # remove the second 'Sequence' column\n",
    "    \n",
    "    scaler        = StandardScaler()  # mean 0 and std 1\n",
    "    undersampleer = RandomUnderSampler(random_state=42)\n",
    "\n",
    "    train_file[col_names] = scaler.fit_transform(train_file[col_names])\n",
    "    test_file[col_names]  = scaler.transform(test_file[col_names])\n",
    "\n",
    "    X_train = train_file[col_names].to_numpy()\n",
    "    y_train = train_file['Label'].to_numpy()\n",
    "    X_test  = test_file[col_names].to_numpy()\n",
    "    y_test  = test_file['Label'].to_numpy()\n",
    "\n",
    "    X_train, y_train = undersampleer.fit_resample(X_train, y_train)\n",
    "    \n",
    "    return X_train,y_train,X_test,y_test"
   ]
  },
  {
   "cell_type": "code",
   "execution_count": 124,
   "metadata": {},
   "outputs": [],
   "source": [
    "x_hemo1,y_hemo1,x_hemo1_test,y_hemo1_test = pre_process(train_file_1,test_file_1)\n",
    "x_hemo2,y_hemo2,x_hemo2_test,y_hemo2_test = pre_process(train_file_2,test_file_2)\n",
    "x_hemo3,y_hemo3,x_hemo3_test,y_hemo3_test = pre_process(train_file_3,test_file_3)"
   ]
  },
  {
   "cell_type": "code",
   "execution_count": 125,
   "metadata": {},
   "outputs": [],
   "source": [
    "# Function to create one random Hamiltonian operator\n",
    "def one_operator(num_qubits):\n",
    "    ops_list = [qml.PauliX, qml.PauliY, qml.PauliZ,qml.Identity] # Pauli matrices\n",
    "    return qml.operation.Tensor(*(random.choice(ops_list)(i) for i in range(num_qubits)))\n",
    "\n",
    "# Function to create multiple random Hamiltonian operators\n",
    "def hamiltonian_operators(num_qubits, num_ops,num_samples=1):\n",
    "    ops_all = []\n",
    "    for _ in range(num_samples):\n",
    "        ops = []\n",
    "        for _ in range(num_ops):\n",
    "            op = one_operator(num_qubits)\n",
    "            ops.append(op)\n",
    "        ops_all.append(ops)\n",
    "    return ops_all\n",
    "\n",
    "# Function to create the kernel matrix\n",
    "def kernel_matrix(A,B):\n",
    "    A = np.array(A)\n",
    "    B = np.array(B)\n",
    "    \n",
    "    return np.absolute(np.matmul(np.conjugate(A),B.T)**2)\n",
    "\n",
    "\n",
    "#####################################################\n",
    "\n",
    "random.seed(42)\n",
    "\n",
    "num_qubits = [6]  # number of qubits\n",
    "L          = len(x_hemo1[0])    # number of operators\n",
    "n_sample   = 3                # number of samples for each number of qubits\n",
    "ops_dict   = {}\n",
    "\n",
    "for n in num_qubits:\n",
    "    ops_dict[f'{n}_qubits'] = hamiltonian_operators(num_qubits=n,num_ops=L,num_samples=n_sample)\n",
    "\n"
   ]
  },
  {
   "cell_type": "code",
   "execution_count": 148,
   "metadata": {},
   "outputs": [],
   "source": [
    "# Function to train and test quantum kernels\n",
    "def testing(num_qubits,time,step,ops_index,xdata,ydata,x_test,y_test):\n",
    "\n",
    "    n_qubits = num_qubits\n",
    "    dev_kernel = qml.device(\"lightning.qubit\", wires=n_qubits)\n",
    "\n",
    "    @qml.qnode(dev_kernel, interface=\"autograd\")\n",
    "    def kernel(x,ops,time=1,steps=1):   \n",
    "        \n",
    "        hamiltonian_1 = qml.Hamiltonian(x, ops)\n",
    "        ApproxTimeEvolution(hamiltonian_1, time, steps)\n",
    "        return qml.state()\n",
    "    \n",
    "    np.random.seed(42)\n",
    "    \n",
    "    # def kernel_matrix(A,B):\n",
    "    #     A = np.array(A)\n",
    "    #     B = np.array(B)\n",
    "        \n",
    "    #     return np.absolute(np.matmul(np.conjugate(A),B.T)**2)\n",
    "\n",
    "    ops_n8 = ops_dict[str(n_qubits)+'_qubits'][ops_index]\n",
    "\n",
    "    q_state    = [ kernel(x,ops_n8,time,step) for x in xdata] # training states\n",
    "    test_state = [ kernel(x,ops_n8,time,step) for x in x_test] # testing states\n",
    "\n",
    "    k_matrix   = kernel_matrix(q_state,q_state) # Compute kernel matrix with training set\n",
    "    svm        = SVC(kernel='precomputed').fit(k_matrix, ydata)  # Fit \n",
    "\n",
    "    test_matrix = kernel_matrix(q_state,test_state)\n",
    "    test_pred   = svm.predict(test_matrix.T)\n",
    "    test_score  = svm.decision_function(test_matrix.T)\n",
    "\n",
    "    test_acc    = accuracy_score(y_test,test_pred)\n",
    "\n",
    "    precision = precision_score(y_test, test_pred,pos_label=1)\n",
    "    recall    = recall_score(y_test, test_pred,pos_label=1)\n",
    "    f1_       = f1_score(y_test, test_pred,pos_label=1)\n",
    "    roc_auc_  = roc_auc_score(y_test, test_score)\n",
    "\n",
    "    print(f\"Testing accuracy: {test_acc:.5f}\")\n",
    "    print(f\"Precision: {precision:.5f}\")\n",
    "    print(f\"Recall: {recall:.5f}\")\n",
    "    print(f\"F1: {f1_:.5f}\")\n",
    "    print(f\"ROC AUC: {roc_auc_:.5f}\")\n",
    "\n",
    "\n",
    "    return [test_acc,precision,recall,f1_,roc_auc_]"
   ]
  },
  {
   "cell_type": "markdown",
   "metadata": {},
   "source": [
    "## HemoPI with 56 descriptors"
   ]
  },
  {
   "cell_type": "markdown",
   "metadata": {},
   "source": [
    "#### Quantum "
   ]
  },
  {
   "cell_type": "code",
   "execution_count": 149,
   "metadata": {},
   "outputs": [
    {
     "name": "stdout",
     "output_type": "stream",
     "text": [
      "Testing accuracy: 0.95909\n",
      "Precision: 0.97196\n",
      "Recall: 0.94545\n",
      "F1: 0.95853\n",
      "ROC AUC: 0.98595\n"
     ]
    }
   ],
   "source": [
    "hemo1_q = testing(6,0.3,10,1,x_hemo1,y_hemo1,x_hemo1_test,y_hemo1_test)"
   ]
  },
  {
   "cell_type": "code",
   "execution_count": 128,
   "metadata": {},
   "outputs": [
    {
     "name": "stdout",
     "output_type": "stream",
     "text": [
      "Testing accuracy: 0.95909\n",
      "Precision: 0.97196\n",
      "Recall: 0.94545\n",
      "F1: 0.95853\n",
      "ROC AUC: 0.98595\n"
     ]
    }
   ],
   "source": [
    "hemo1_q = testing(6,0.3,10,1,x_hemo1,y_hemo1,x_hemo1_test,y_hemo1_test)"
   ]
  },
  {
   "cell_type": "code",
   "execution_count": 129,
   "metadata": {},
   "outputs": [
    {
     "name": "stdout",
     "output_type": "stream",
     "text": [
      "Testing accuracy: 0.73267\n",
      "Precision: 0.76415\n",
      "Recall: 0.73636\n",
      "F1: 0.75000\n",
      "ROC AUC: 0.82381\n"
     ]
    }
   ],
   "source": [
    "hemo2_q = testing(6,0.15,10,2,x_hemo2,y_hemo2,x_hemo2_test,y_hemo2_test)"
   ]
  },
  {
   "cell_type": "code",
   "execution_count": 130,
   "metadata": {},
   "outputs": [
    {
     "name": "stdout",
     "output_type": "stream",
     "text": [
      "Testing accuracy: 0.78154\n",
      "Precision: 0.75728\n",
      "Recall: 0.88136\n",
      "F1: 0.81462\n",
      "ROC AUC: 0.83402\n"
     ]
    }
   ],
   "source": [
    "hemo3_q = testing(6,0.15,10,2,x_hemo3,y_hemo3,x_hemo3_test,y_hemo3_test)"
   ]
  },
  {
   "cell_type": "markdown",
   "metadata": {},
   "source": [
    "#### Classical, helper function"
   ]
  },
  {
   "cell_type": "code",
   "execution_count": 131,
   "metadata": {},
   "outputs": [],
   "source": [
    "def test_metric(param,x,y,x_test,y_test):\n",
    "    model = SVC(**param)\n",
    "    model.fit(x,y)\n",
    "    y_pred         = model.predict(x_test)\n",
    "    y_pred_prob    = model.decision_function(x_test)\n",
    "    test_score     = model.score(x_test,y_test)\n",
    "    \n",
    "    precision = precision_score(y_test, y_pred,pos_label=1)\n",
    "    recall  = recall_score(y_test, y_pred,pos_label=1)\n",
    "    f1_ = f1_score(y_test, y_pred,pos_label=1)\n",
    "    roc_auc_ = roc_auc_score(y_test, y_pred_prob)\n",
    "\n",
    "\n",
    "    # print(\"Testing accuracy:{:0.5f}\".format(test_score))  \n",
    "    # print('Precision:{:0.5f}'.format(precision))\n",
    "    # print('Recall:{:0.5f}'.format(recall))\n",
    "    # print('F1:{:0.5f}'.format(f1_))\n",
    "    # print('ROC AUC:{:0.5f}'.format(roc_auc_))\n",
    "\n",
    "    print(f\"Testing accuracy: {test_score:.5f}\")\n",
    "    print(f\"Precision: {precision:.5f}\")\n",
    "    print(f\"Recall: {recall:.5f}\")\n",
    "    print(f\"F1: {f1_:.5f}\")\n",
    "    print(f\"ROC AUC: {roc_auc_:.5f}\")\n",
    "\n",
    "    return [test_score,precision,recall,f1_,roc_auc_]"
   ]
  },
  {
   "cell_type": "markdown",
   "metadata": {},
   "source": [
    "#### Classical: Linear"
   ]
  },
  {
   "cell_type": "code",
   "execution_count": 132,
   "metadata": {},
   "outputs": [],
   "source": [
    "linear_params1 = {'C': 1, 'kernel': 'linear'}\n",
    "linear_params2 = {'C': 0.1, 'kernel': 'linear'}\n",
    "linear_params3 = {'C': 1, 'kernel': 'linear'}"
   ]
  },
  {
   "cell_type": "code",
   "execution_count": 133,
   "metadata": {},
   "outputs": [
    {
     "name": "stdout",
     "output_type": "stream",
     "text": [
      "HemoPI1\n",
      "Testing accuracy: 0.94091\n",
      "Precision: 0.94495\n",
      "Recall: 0.93636\n",
      "F1: 0.94064\n",
      "ROC AUC: 0.98727\n"
     ]
    }
   ],
   "source": [
    "print('HemoPI1')\n",
    "hemo1_linear =test_metric(linear_params1,x_hemo1,y_hemo1,x_hemo1_test,y_hemo1_test)"
   ]
  },
  {
   "cell_type": "code",
   "execution_count": 134,
   "metadata": {},
   "outputs": [
    {
     "name": "stdout",
     "output_type": "stream",
     "text": [
      "HemoPI2\n",
      "Testing accuracy: 0.70297\n",
      "Precision: 0.70492\n",
      "Recall: 0.78182\n",
      "F1: 0.74138\n",
      "ROC AUC: 0.76294\n"
     ]
    }
   ],
   "source": [
    "print('HemoPI2')\n",
    "hemo2_linear = test_metric(linear_params2,x_hemo2,y_hemo2,x_hemo2_test,y_hemo2_test)"
   ]
  },
  {
   "cell_type": "code",
   "execution_count": 135,
   "metadata": {},
   "outputs": [
    {
     "name": "stdout",
     "output_type": "stream",
     "text": [
      "HemoPI3\n",
      "Testing accuracy: 0.74462\n",
      "Precision: 0.72381\n",
      "Recall: 0.85876\n",
      "F1: 0.78553\n",
      "ROC AUC: 0.79188\n"
     ]
    }
   ],
   "source": [
    "print('HemoPI3')    \n",
    "hemo3_linear = test_metric(linear_params3,x_hemo3,y_hemo3,x_hemo3_test,y_hemo3_test)"
   ]
  },
  {
   "cell_type": "markdown",
   "metadata": {},
   "source": [
    "#### Classical: RBF"
   ]
  },
  {
   "cell_type": "code",
   "execution_count": 136,
   "metadata": {},
   "outputs": [],
   "source": [
    "rbf_params1 = {'C': 1000, 'gamma': 0.001,'kernel':'rbf'}\n",
    "rbf_params2 = {'C': 1000, 'gamma': 0.0001,'kernel':'rbf'}\n",
    "rbf_params3 = {'C': 10, 'gamma': 0.001,'kernel':'rbf'}"
   ]
  },
  {
   "cell_type": "code",
   "execution_count": 137,
   "metadata": {},
   "outputs": [
    {
     "name": "stdout",
     "output_type": "stream",
     "text": [
      "HemoPI1\n",
      "Testing accuracy: 0.95455\n",
      "Precision: 0.99020\n",
      "Recall: 0.91818\n",
      "F1: 0.95283\n",
      "ROC AUC: 0.98934\n"
     ]
    }
   ],
   "source": [
    "print('HemoPI1')\n",
    "hemo1_rbf = test_metric(rbf_params1,x_hemo1,y_hemo1,x_hemo1_test,y_hemo1_test)"
   ]
  },
  {
   "cell_type": "code",
   "execution_count": 138,
   "metadata": {},
   "outputs": [
    {
     "name": "stdout",
     "output_type": "stream",
     "text": [
      "HemoPI2\n",
      "Testing accuracy: 0.70792\n",
      "Precision: 0.71795\n",
      "Recall: 0.76364\n",
      "F1: 0.74009\n",
      "ROC AUC: 0.77994\n"
     ]
    }
   ],
   "source": [
    "print('HemoPI2')\n",
    "hemo2_rbf = test_metric(rbf_params2,x_hemo2,y_hemo2,x_hemo2_test,y_hemo2_test)"
   ]
  },
  {
   "cell_type": "code",
   "execution_count": 139,
   "metadata": {},
   "outputs": [
    {
     "name": "stdout",
     "output_type": "stream",
     "text": [
      "HemoPI3\n",
      "Testing accuracy: 0.75077\n",
      "Precision: 0.73077\n",
      "Recall: 0.85876\n",
      "F1: 0.78961\n",
      "ROC AUC: 0.80654\n"
     ]
    }
   ],
   "source": [
    "print('HemoPI3')\n",
    "hemo3_rbf = test_metric(rbf_params3,x_hemo3,y_hemo3,x_hemo3_test,y_hemo3_test)"
   ]
  },
  {
   "cell_type": "markdown",
   "metadata": {},
   "source": [
    "#### Classical: Poly"
   ]
  },
  {
   "cell_type": "code",
   "execution_count": 140,
   "metadata": {},
   "outputs": [],
   "source": [
    "poly_params1 = {'C': 10, 'degree': 3,'kernel':'poly'}\n",
    "poly_params2 = {'C': 0.1, 'degree': 3,'kernel':'poly'}\n",
    "poly_params3 = {'C': 1, 'degree': 3,'kernel':'poly'}"
   ]
  },
  {
   "cell_type": "code",
   "execution_count": 141,
   "metadata": {},
   "outputs": [
    {
     "name": "stdout",
     "output_type": "stream",
     "text": [
      "HemoPI1\n",
      "Testing accuracy: 0.94545\n",
      "Precision: 0.96226\n",
      "Recall: 0.92727\n",
      "F1: 0.94444\n",
      "ROC AUC: 0.97050\n"
     ]
    }
   ],
   "source": [
    "print('HemoPI1')\n",
    "hemo1_poly = test_metric(poly_params1,x_hemo1,y_hemo1,x_hemo1_test,y_hemo1_test)"
   ]
  },
  {
   "cell_type": "code",
   "execution_count": 142,
   "metadata": {},
   "outputs": [
    {
     "name": "stdout",
     "output_type": "stream",
     "text": [
      "HemoPI2\n",
      "Testing accuracy: 0.66832\n",
      "Precision: 0.75904\n",
      "Recall: 0.57273\n",
      "F1: 0.65285\n",
      "ROC AUC: 0.79150\n"
     ]
    }
   ],
   "source": [
    "print('HemoPI2')   \n",
    "hemo2_poly = test_metric(poly_params2,x_hemo2,y_hemo2,x_hemo2_test,y_hemo2_test)"
   ]
  },
  {
   "cell_type": "code",
   "execution_count": 143,
   "metadata": {},
   "outputs": [
    {
     "name": "stdout",
     "output_type": "stream",
     "text": [
      "HemoPI3\n",
      "Testing accuracy: 0.75077\n",
      "Precision: 0.72222\n",
      "Recall: 0.88136\n",
      "F1: 0.79389\n",
      "ROC AUC: 0.79657\n"
     ]
    }
   ],
   "source": [
    "print('HemoPI3')\n",
    "hemo3_poly = test_metric(poly_params3,x_hemo3,y_hemo3,x_hemo3_test,y_hemo3_test)"
   ]
  },
  {
   "cell_type": "code",
   "execution_count": 144,
   "metadata": {},
   "outputs": [],
   "source": [
    "# Combine the lists for each dataset (each sublist is a kernel's metrics)\n",
    "data_hemo1 = [hemo1_q, hemo1_linear, hemo1_rbf, hemo1_poly]\n",
    "data_hemo2 = [hemo2_q, hemo2_linear, hemo2_rbf, hemo2_poly]\n",
    "data_hemo3 = [hemo3_q, hemo3_linear, hemo3_rbf, hemo3_poly]\n",
    "\n",
    "df_hemo1 = pd.DataFrame(data_hemo1, index=['Quantum', 'Linear', 'RBF', 'Poly'], \n",
    "                    columns=['Acc', 'Precision', 'Recall', 'F1', 'AUC'])\n",
    "df_hemo2 = pd.DataFrame(data_hemo2, index=['Quantum', 'Linear', 'RBF', 'Poly'],\n",
    "                    columns=['Acc', 'Precision', 'Recall', 'F1', 'AUC'])\n",
    "df_hemo3 = pd.DataFrame(data_hemo3, index=['Quantum', 'Linear', 'RBF', 'Poly'],\n",
    "                    columns=['Acc', 'Precision', 'Recall', 'F1', 'AUC'])\n"
   ]
  },
  {
   "cell_type": "code",
   "execution_count": 145,
   "metadata": {},
   "outputs": [
    {
     "data": {
      "text/html": [
       "<style type=\"text/css\">\n",
       "#T_9e9ca_row0_col0, #T_9e9ca_row0_col2, #T_9e9ca_row0_col3, #T_9e9ca_row2_col1, #T_9e9ca_row2_col4 {\n",
       "  background-color: blue;\n",
       "}\n",
       "</style>\n",
       "<table id=\"T_9e9ca\">\n",
       "  <caption>HemoPI1 - 56 Descriptors</caption>\n",
       "  <thead>\n",
       "    <tr>\n",
       "      <th class=\"blank level0\" >&nbsp;</th>\n",
       "      <th id=\"T_9e9ca_level0_col0\" class=\"col_heading level0 col0\" >Acc</th>\n",
       "      <th id=\"T_9e9ca_level0_col1\" class=\"col_heading level0 col1\" >Precision</th>\n",
       "      <th id=\"T_9e9ca_level0_col2\" class=\"col_heading level0 col2\" >Recall</th>\n",
       "      <th id=\"T_9e9ca_level0_col3\" class=\"col_heading level0 col3\" >F1</th>\n",
       "      <th id=\"T_9e9ca_level0_col4\" class=\"col_heading level0 col4\" >AUC</th>\n",
       "    </tr>\n",
       "  </thead>\n",
       "  <tbody>\n",
       "    <tr>\n",
       "      <th id=\"T_9e9ca_level0_row0\" class=\"row_heading level0 row0\" >Quantum</th>\n",
       "      <td id=\"T_9e9ca_row0_col0\" class=\"data row0 col0\" >0.959091</td>\n",
       "      <td id=\"T_9e9ca_row0_col1\" class=\"data row0 col1\" >0.971963</td>\n",
       "      <td id=\"T_9e9ca_row0_col2\" class=\"data row0 col2\" >0.945455</td>\n",
       "      <td id=\"T_9e9ca_row0_col3\" class=\"data row0 col3\" >0.958525</td>\n",
       "      <td id=\"T_9e9ca_row0_col4\" class=\"data row0 col4\" >0.985950</td>\n",
       "    </tr>\n",
       "    <tr>\n",
       "      <th id=\"T_9e9ca_level0_row1\" class=\"row_heading level0 row1\" >Linear</th>\n",
       "      <td id=\"T_9e9ca_row1_col0\" class=\"data row1 col0\" >0.940909</td>\n",
       "      <td id=\"T_9e9ca_row1_col1\" class=\"data row1 col1\" >0.944954</td>\n",
       "      <td id=\"T_9e9ca_row1_col2\" class=\"data row1 col2\" >0.936364</td>\n",
       "      <td id=\"T_9e9ca_row1_col3\" class=\"data row1 col3\" >0.940639</td>\n",
       "      <td id=\"T_9e9ca_row1_col4\" class=\"data row1 col4\" >0.987273</td>\n",
       "    </tr>\n",
       "    <tr>\n",
       "      <th id=\"T_9e9ca_level0_row2\" class=\"row_heading level0 row2\" >RBF</th>\n",
       "      <td id=\"T_9e9ca_row2_col0\" class=\"data row2 col0\" >0.954545</td>\n",
       "      <td id=\"T_9e9ca_row2_col1\" class=\"data row2 col1\" >0.990196</td>\n",
       "      <td id=\"T_9e9ca_row2_col2\" class=\"data row2 col2\" >0.918182</td>\n",
       "      <td id=\"T_9e9ca_row2_col3\" class=\"data row2 col3\" >0.952830</td>\n",
       "      <td id=\"T_9e9ca_row2_col4\" class=\"data row2 col4\" >0.989339</td>\n",
       "    </tr>\n",
       "    <tr>\n",
       "      <th id=\"T_9e9ca_level0_row3\" class=\"row_heading level0 row3\" >Poly</th>\n",
       "      <td id=\"T_9e9ca_row3_col0\" class=\"data row3 col0\" >0.945455</td>\n",
       "      <td id=\"T_9e9ca_row3_col1\" class=\"data row3 col1\" >0.962264</td>\n",
       "      <td id=\"T_9e9ca_row3_col2\" class=\"data row3 col2\" >0.927273</td>\n",
       "      <td id=\"T_9e9ca_row3_col3\" class=\"data row3 col3\" >0.944444</td>\n",
       "      <td id=\"T_9e9ca_row3_col4\" class=\"data row3 col4\" >0.970496</td>\n",
       "    </tr>\n",
       "  </tbody>\n",
       "</table>\n"
      ],
      "text/plain": [
       "<pandas.io.formats.style.Styler at 0x1cfe6c60400>"
      ]
     },
     "execution_count": 145,
     "metadata": {},
     "output_type": "execute_result"
    }
   ],
   "source": [
    "df_hemo1.style.set_caption('HemoPI1 - 56 Descriptors').highlight_max(color = 'blue', axis = 0)"
   ]
  },
  {
   "cell_type": "code",
   "execution_count": 146,
   "metadata": {},
   "outputs": [
    {
     "data": {
      "text/html": [
       "<style type=\"text/css\">\n",
       "#T_b7bd0_row0_col0, #T_b7bd0_row0_col1, #T_b7bd0_row0_col3, #T_b7bd0_row0_col4, #T_b7bd0_row1_col2 {\n",
       "  background-color: blue;\n",
       "}\n",
       "</style>\n",
       "<table id=\"T_b7bd0\">\n",
       "  <caption>HemoPI2 - 56 Descriptors</caption>\n",
       "  <thead>\n",
       "    <tr>\n",
       "      <th class=\"blank level0\" >&nbsp;</th>\n",
       "      <th id=\"T_b7bd0_level0_col0\" class=\"col_heading level0 col0\" >Acc</th>\n",
       "      <th id=\"T_b7bd0_level0_col1\" class=\"col_heading level0 col1\" >Precision</th>\n",
       "      <th id=\"T_b7bd0_level0_col2\" class=\"col_heading level0 col2\" >Recall</th>\n",
       "      <th id=\"T_b7bd0_level0_col3\" class=\"col_heading level0 col3\" >F1</th>\n",
       "      <th id=\"T_b7bd0_level0_col4\" class=\"col_heading level0 col4\" >AUC</th>\n",
       "    </tr>\n",
       "  </thead>\n",
       "  <tbody>\n",
       "    <tr>\n",
       "      <th id=\"T_b7bd0_level0_row0\" class=\"row_heading level0 row0\" >Quantum</th>\n",
       "      <td id=\"T_b7bd0_row0_col0\" class=\"data row0 col0\" >0.732673</td>\n",
       "      <td id=\"T_b7bd0_row0_col1\" class=\"data row0 col1\" >0.764151</td>\n",
       "      <td id=\"T_b7bd0_row0_col2\" class=\"data row0 col2\" >0.736364</td>\n",
       "      <td id=\"T_b7bd0_row0_col3\" class=\"data row0 col3\" >0.750000</td>\n",
       "      <td id=\"T_b7bd0_row0_col4\" class=\"data row0 col4\" >0.823814</td>\n",
       "    </tr>\n",
       "    <tr>\n",
       "      <th id=\"T_b7bd0_level0_row1\" class=\"row_heading level0 row1\" >Linear</th>\n",
       "      <td id=\"T_b7bd0_row1_col0\" class=\"data row1 col0\" >0.702970</td>\n",
       "      <td id=\"T_b7bd0_row1_col1\" class=\"data row1 col1\" >0.704918</td>\n",
       "      <td id=\"T_b7bd0_row1_col2\" class=\"data row1 col2\" >0.781818</td>\n",
       "      <td id=\"T_b7bd0_row1_col3\" class=\"data row1 col3\" >0.741379</td>\n",
       "      <td id=\"T_b7bd0_row1_col4\" class=\"data row1 col4\" >0.762945</td>\n",
       "    </tr>\n",
       "    <tr>\n",
       "      <th id=\"T_b7bd0_level0_row2\" class=\"row_heading level0 row2\" >RBF</th>\n",
       "      <td id=\"T_b7bd0_row2_col0\" class=\"data row2 col0\" >0.707921</td>\n",
       "      <td id=\"T_b7bd0_row2_col1\" class=\"data row2 col1\" >0.717949</td>\n",
       "      <td id=\"T_b7bd0_row2_col2\" class=\"data row2 col2\" >0.763636</td>\n",
       "      <td id=\"T_b7bd0_row2_col3\" class=\"data row2 col3\" >0.740088</td>\n",
       "      <td id=\"T_b7bd0_row2_col4\" class=\"data row2 col4\" >0.779941</td>\n",
       "    </tr>\n",
       "    <tr>\n",
       "      <th id=\"T_b7bd0_level0_row3\" class=\"row_heading level0 row3\" >Poly</th>\n",
       "      <td id=\"T_b7bd0_row3_col0\" class=\"data row3 col0\" >0.668317</td>\n",
       "      <td id=\"T_b7bd0_row3_col1\" class=\"data row3 col1\" >0.759036</td>\n",
       "      <td id=\"T_b7bd0_row3_col2\" class=\"data row3 col2\" >0.572727</td>\n",
       "      <td id=\"T_b7bd0_row3_col3\" class=\"data row3 col3\" >0.652850</td>\n",
       "      <td id=\"T_b7bd0_row3_col4\" class=\"data row3 col4\" >0.791502</td>\n",
       "    </tr>\n",
       "  </tbody>\n",
       "</table>\n"
      ],
      "text/plain": [
       "<pandas.io.formats.style.Styler at 0x1cfe94de340>"
      ]
     },
     "execution_count": 146,
     "metadata": {},
     "output_type": "execute_result"
    }
   ],
   "source": [
    "df_hemo2.style.set_caption('HemoPI2 - 56 Descriptors').highlight_max(color = 'blue', axis = 0)"
   ]
  },
  {
   "cell_type": "code",
   "execution_count": 147,
   "metadata": {},
   "outputs": [
    {
     "data": {
      "text/html": [
       "<style type=\"text/css\">\n",
       "#T_aab6e_row0_col0, #T_aab6e_row0_col1, #T_aab6e_row0_col2, #T_aab6e_row0_col3, #T_aab6e_row0_col4, #T_aab6e_row3_col2 {\n",
       "  background-color: blue;\n",
       "}\n",
       "</style>\n",
       "<table id=\"T_aab6e\">\n",
       "  <caption>HemoPI3 - 56 Descriptors</caption>\n",
       "  <thead>\n",
       "    <tr>\n",
       "      <th class=\"blank level0\" >&nbsp;</th>\n",
       "      <th id=\"T_aab6e_level0_col0\" class=\"col_heading level0 col0\" >Acc</th>\n",
       "      <th id=\"T_aab6e_level0_col1\" class=\"col_heading level0 col1\" >Precision</th>\n",
       "      <th id=\"T_aab6e_level0_col2\" class=\"col_heading level0 col2\" >Recall</th>\n",
       "      <th id=\"T_aab6e_level0_col3\" class=\"col_heading level0 col3\" >F1</th>\n",
       "      <th id=\"T_aab6e_level0_col4\" class=\"col_heading level0 col4\" >AUC</th>\n",
       "    </tr>\n",
       "  </thead>\n",
       "  <tbody>\n",
       "    <tr>\n",
       "      <th id=\"T_aab6e_level0_row0\" class=\"row_heading level0 row0\" >Quantum</th>\n",
       "      <td id=\"T_aab6e_row0_col0\" class=\"data row0 col0\" >0.781538</td>\n",
       "      <td id=\"T_aab6e_row0_col1\" class=\"data row0 col1\" >0.757282</td>\n",
       "      <td id=\"T_aab6e_row0_col2\" class=\"data row0 col2\" >0.881356</td>\n",
       "      <td id=\"T_aab6e_row0_col3\" class=\"data row0 col3\" >0.814621</td>\n",
       "      <td id=\"T_aab6e_row0_col4\" class=\"data row0 col4\" >0.834020</td>\n",
       "    </tr>\n",
       "    <tr>\n",
       "      <th id=\"T_aab6e_level0_row1\" class=\"row_heading level0 row1\" >Linear</th>\n",
       "      <td id=\"T_aab6e_row1_col0\" class=\"data row1 col0\" >0.744615</td>\n",
       "      <td id=\"T_aab6e_row1_col1\" class=\"data row1 col1\" >0.723810</td>\n",
       "      <td id=\"T_aab6e_row1_col2\" class=\"data row1 col2\" >0.858757</td>\n",
       "      <td id=\"T_aab6e_row1_col3\" class=\"data row1 col3\" >0.785530</td>\n",
       "      <td id=\"T_aab6e_row1_col4\" class=\"data row1 col4\" >0.791877</td>\n",
       "    </tr>\n",
       "    <tr>\n",
       "      <th id=\"T_aab6e_level0_row2\" class=\"row_heading level0 row2\" >RBF</th>\n",
       "      <td id=\"T_aab6e_row2_col0\" class=\"data row2 col0\" >0.750769</td>\n",
       "      <td id=\"T_aab6e_row2_col1\" class=\"data row2 col1\" >0.730769</td>\n",
       "      <td id=\"T_aab6e_row2_col2\" class=\"data row2 col2\" >0.858757</td>\n",
       "      <td id=\"T_aab6e_row2_col3\" class=\"data row2 col3\" >0.789610</td>\n",
       "      <td id=\"T_aab6e_row2_col4\" class=\"data row2 col4\" >0.806535</td>\n",
       "    </tr>\n",
       "    <tr>\n",
       "      <th id=\"T_aab6e_level0_row3\" class=\"row_heading level0 row3\" >Poly</th>\n",
       "      <td id=\"T_aab6e_row3_col0\" class=\"data row3 col0\" >0.750769</td>\n",
       "      <td id=\"T_aab6e_row3_col1\" class=\"data row3 col1\" >0.722222</td>\n",
       "      <td id=\"T_aab6e_row3_col2\" class=\"data row3 col2\" >0.881356</td>\n",
       "      <td id=\"T_aab6e_row3_col3\" class=\"data row3 col3\" >0.793893</td>\n",
       "      <td id=\"T_aab6e_row3_col4\" class=\"data row3 col4\" >0.796572</td>\n",
       "    </tr>\n",
       "  </tbody>\n",
       "</table>\n"
      ],
      "text/plain": [
       "<pandas.io.formats.style.Styler at 0x1cfe94dea00>"
      ]
     },
     "execution_count": 147,
     "metadata": {},
     "output_type": "execute_result"
    }
   ],
   "source": [
    "df_hemo3.style.set_caption('HemoPI3 - 56 Descriptors').highlight_max(color = 'blue', axis = 0)"
   ]
  }
 ],
 "metadata": {
  "kernelspec": {
   "display_name": "Python 3",
   "language": "python",
   "name": "python3"
  },
  "language_info": {
   "codemirror_mode": {
    "name": "ipython",
    "version": 3
   },
   "file_extension": ".py",
   "mimetype": "text/x-python",
   "name": "python",
   "nbconvert_exporter": "python",
   "pygments_lexer": "ipython3",
   "version": "3.8.16"
  }
 },
 "nbformat": 4,
 "nbformat_minor": 2
}
